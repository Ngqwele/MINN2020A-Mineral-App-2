{
 "cells": [],
 "metadata": {},
 "nbformat": 4,
 "nbformat_minor": 5
}
efrjhbikjb 
buuijbfc
cujivc
uocfrdefcbuoicv 
ujhiub;uohcf 
